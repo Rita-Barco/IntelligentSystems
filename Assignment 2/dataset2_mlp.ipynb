{
 "cells": [
  {
   "cell_type": "markdown",
   "id": "c433af0c",
   "metadata": {},
   "source": [
    "# Dataset 2 - Classification task using MLP"
   ]
  },
  {
   "cell_type": "code",
   "execution_count": 18,
   "id": "4c8691a9",
   "metadata": {},
   "outputs": [],
   "source": [
    "import numpy as np\n",
    "from sklearn.datasets import fetch_openml\n",
    "from sklearn.preprocessing import StandardScaler\n",
    "from sklearn.model_selection import train_test_split\n",
    "from sklearn.metrics import mean_squared_error,accuracy_score,classification_report\n",
    "import matplotlib.pyplot as plt\n",
    "import torch.nn.functional as F\n",
    "import torch\n",
    "import torch.nn as nn\n",
    "import torch.optim as optim\n",
    "from torch.utils.data import TensorDataset, DataLoader\n",
    "import pandas"
   ]
  },
  {
   "cell_type": "markdown",
   "id": "26b2fec7",
   "metadata": {},
   "source": [
    "Firstly, the dataset is loaded and the features (X) and target (y) are extracted as arrays. Next, the data is split into 80% training and 20% testing to evaluate the model performance, specifying a random state so that the data division will be equal at each run.  Features are then scaled to have mean 0 and a standard deviation equal to 1, which helps models to converge faster and perform better."
   ]
  },
  {
   "cell_type": "code",
   "execution_count": 19,
   "id": "71d7c1ea",
   "metadata": {},
   "outputs": [],
   "source": [
    "# load dataset\n",
    "diabetes = fetch_openml(\"diabetes\",version=1,as_frame=True)\n",
    "X = diabetes.data.values\n",
    "y = diabetes.target.values\n",
    "X.shape\n",
    "y = (y=='tested_positive').astype(np.int64)\n",
    "\n",
    "# train test spliting\n",
    "test_size=0.2\n",
    "Xtr, Xte, ytr, yte = train_test_split(X, y, test_size=test_size, random_state=42)\n",
    "\n",
    "# Standardize features\n",
    "scaler=StandardScaler()\n",
    "Xtr= scaler.fit_transform(Xtr)\n",
    "Xte= scaler.transform(Xte)"
   ]
  },
  {
   "cell_type": "markdown",
   "id": "b3d15a2a",
   "metadata": {},
   "source": [
    "In this part of the code, the multilayer perceptron (MLP) is defined. It consists of an input layer, four fully connected hidden layers with 64 neurons each and a final output layer. After each hidden layer, a dropout operation is applied, with a default probability of 0.5. So, during training, half of the neurons are randomly deactivated to reduce overfitting and improve the network's ability to generalize. The hidden layers of this network use the ReLU (Rectified Linear Unit) activation function, which introduces non-linearity and enables the network to capture complex relationships in the data. On the other hand, the output layer has a single neuron and no activation function, leaving its interpretation and any task-specific processing to the choice of loss function. "
   ]
  },
  {
   "cell_type": "code",
   "execution_count": 20,
   "id": "887f2b0e",
   "metadata": {},
   "outputs": [],
   "source": [
    "class MLP(nn.Module):\n",
    "    def __init__(self, input_size, output_size=1, dropout_prob=0.5):\n",
    "        super(MLP, self).__init__()\n",
    "        \n",
    "        self.fc1 = nn.Linear(input_size, 64)\n",
    "        self.fc2 = nn.Linear(64, 64)\n",
    "        self.fc3 = nn.Linear(64, 64)\n",
    "        self.fc4 = nn.Linear(64, 64)\n",
    "        self.out = nn.Linear(64, output_size)\n",
    "        \n",
    "        self.dropout = nn.Dropout(p=dropout_prob)\n",
    "        \n",
    "    def forward(self, x):\n",
    "        x = F.relu(self.fc1(x))\n",
    "        x = self.dropout(x)\n",
    "        \n",
    "        x = F.relu(self.fc2(x))\n",
    "        x = self.dropout(x)\n",
    "        \n",
    "        x = F.relu(self.fc3(x))\n",
    "        x = self.dropout(x)\n",
    "        \n",
    "        x = F.relu(self.fc4(x))\n",
    "        x = self.dropout(x)\n",
    "        \n",
    "        x = self.out(x)\n",
    "        return x"
   ]
  },
  {
   "cell_type": "markdown",
   "id": "463c919a",
   "metadata": {},
   "source": [
    "The next section specifies the hyperparameters of this MLP model. \n",
    "\n",
    "- epochs: The epochs are the number of times the training algorithm will iterate over the entire training dataset. Choosing a number too large might cause overfitting, while too small can result in underfitting. In this case, 100 epochs were used;\n",
    "\n",
    "- learning rate: This hyperparameter controls how much the model weights are updated in response to the computed gradient during training. In this case, larger numbers can accelerate training but may cause divergence, while smaller values may slow down convergence. A learning rate of 0.0005 is used to ensure small, stable weight updates;\n",
    "\n",
    "- dropout: a value of 0.1 was used, meaning 10% of neurons are ignored at each training step;\n",
    "\n",
    "- batch size: the batch size is the number of samples the model looks at before updating its weights. Smaller batch sizes can provide noisier gradient estimates, which may help the model generalize better. When a larger number is considered, it can provide more stable gradients, but requires more memory. In this case, a batch size of 64 was considered.\n"
   ]
  },
  {
   "cell_type": "code",
   "execution_count": 21,
   "id": "95aa28b8",
   "metadata": {},
   "outputs": [],
   "source": [
    "num_epochs=100\n",
    "lr=0.0005\n",
    "dropout=0.1\n",
    "batch_size=64"
   ]
  },
  {
   "cell_type": "markdown",
   "id": "ed9201e1",
   "metadata": {},
   "source": [
    "Before training the model, the input features (Xtr, Xte) and targets (ytr, yte) are converted to PyTorch tensors. (Since PyTorch requires tensors for its computations and gradient tracking during training). Then, the training data is wrapped into a TensorDataset, which pairs each input sample with its corresponding target. This allows the data to be fed to the model in a structured way. Finally, a DataLoader is created from the TensorDataset. The DataLoader handles batching and shuffling: batching groups the training samples into batches of the specified batch_size (64) so that the model updates its weights after processing each batch, while shuffling randomly rearranges the data each epoch to improve generalization and prevent model from learning the order of samples."
   ]
  },
  {
   "cell_type": "code",
   "execution_count": 22,
   "id": "db6e2c78",
   "metadata": {},
   "outputs": [],
   "source": [
    "Xtr = torch.tensor(Xtr, dtype=torch.float32)\n",
    "ytr = torch.tensor(ytr, dtype=torch.float32)\n",
    "Xte = torch.tensor(Xte, dtype=torch.float32)\n",
    "yte = torch.tensor(yte, dtype=torch.float32)\n",
    "\n",
    "# Wrap Xtr and ytr into a dataset\n",
    "train_dataset = TensorDataset(Xtr, ytr)\n",
    "\n",
    "# Create DataLoader\n",
    "train_dataloader = DataLoader(train_dataset, batch_size=batch_size, shuffle=True)"
   ]
  },
  {
   "cell_type": "markdown",
   "id": "0b44005e",
   "metadata": {},
   "source": [
    "In this next code snippet, the model is created and moved to the appropriate device (GPU if available, otherwise CPU). The MLP is initialized with the number of input features and the specified dropout probability. \n",
    "\n",
    "In this case, the loss function (criterion) is set to BCEWithLogitsLoss for binary classification, which combines a sigmoid activation and binary cross-entropy in a single step. The optimizer is Adam, which updates the model's weights during training using the gradients, with the specified learing rate (lr) controlling the size of these updates."
   ]
  },
  {
   "cell_type": "code",
   "execution_count": 23,
   "id": "d82d9a2c",
   "metadata": {},
   "outputs": [],
   "source": [
    "# Model, Loss, Optimizer\n",
    "device = torch.device(\"cuda\" if torch.cuda.is_available() else \"cpu\")\n",
    "\n",
    "model = MLP(input_size=Xtr.shape[1], dropout_prob=dropout).to(device)\n",
    "criterion = nn.BCEWithLogitsLoss()  # for binary classification\n",
    "optimizer = optim.Adam(model.parameters(), lr=lr)"
   ]
  },
  {
   "cell_type": "markdown",
   "id": "c4ce3097",
   "metadata": {},
   "source": [
    "The model is trained for the specified number of epochs. At the beginning of each epoch, the model is set to training mode. For each batch from the DataLoader, the input features and targets are moved to the appropriate device. The model then performs a forward pass to compute the predictions (logits) and the loss is calulated using the chosen loss function. \n",
    "Before backpropagation, the optimizer's gradients are reset to zero. The loss is then backpropagated through the network (loss.backward()) and the optimizer updates the model's weights (optimizer.step()). The loss for each batch is accumulated and the average loss for the epoch is printed to monitor training progress."
   ]
  },
  {
   "cell_type": "code",
   "execution_count": 24,
   "id": "f5ba86e0",
   "metadata": {},
   "outputs": [
    {
     "name": "stdout",
     "output_type": "stream",
     "text": [
      "Epoch [1/100], Loss: 0.6762\n",
      "Epoch [2/100], Loss: 0.6688\n",
      "Epoch [3/100], Loss: 0.6605\n",
      "Epoch [4/100], Loss: 0.6539\n",
      "Epoch [5/100], Loss: 0.6406\n",
      "Epoch [6/100], Loss: 0.6243\n",
      "Epoch [7/100], Loss: 0.5920\n",
      "Epoch [8/100], Loss: 0.5490\n",
      "Epoch [9/100], Loss: 0.5156\n",
      "Epoch [10/100], Loss: 0.4961\n",
      "Epoch [11/100], Loss: 0.4771\n",
      "Epoch [12/100], Loss: 0.4775\n",
      "Epoch [13/100], Loss: 0.4634\n",
      "Epoch [14/100], Loss: 0.4536\n",
      "Epoch [15/100], Loss: 0.4648\n",
      "Epoch [16/100], Loss: 0.4528\n",
      "Epoch [17/100], Loss: 0.4435\n",
      "Epoch [18/100], Loss: 0.4561\n",
      "Epoch [19/100], Loss: 0.4411\n",
      "Epoch [20/100], Loss: 0.4383\n",
      "Epoch [21/100], Loss: 0.4354\n",
      "Epoch [22/100], Loss: 0.4377\n",
      "Epoch [23/100], Loss: 0.4275\n",
      "Epoch [24/100], Loss: 0.4249\n",
      "Epoch [25/100], Loss: 0.4196\n",
      "Epoch [26/100], Loss: 0.4182\n",
      "Epoch [27/100], Loss: 0.4155\n",
      "Epoch [28/100], Loss: 0.4303\n",
      "Epoch [29/100], Loss: 0.4191\n",
      "Epoch [30/100], Loss: 0.4131\n",
      "Epoch [31/100], Loss: 0.4166\n",
      "Epoch [32/100], Loss: 0.4144\n",
      "Epoch [33/100], Loss: 0.4091\n",
      "Epoch [34/100], Loss: 0.4079\n",
      "Epoch [35/100], Loss: 0.4023\n",
      "Epoch [36/100], Loss: 0.4055\n",
      "Epoch [37/100], Loss: 0.4087\n",
      "Epoch [38/100], Loss: 0.3880\n",
      "Epoch [39/100], Loss: 0.4039\n",
      "Epoch [40/100], Loss: 0.3904\n",
      "Epoch [41/100], Loss: 0.3858\n",
      "Epoch [42/100], Loss: 0.3936\n",
      "Epoch [43/100], Loss: 0.4003\n",
      "Epoch [44/100], Loss: 0.3766\n",
      "Epoch [45/100], Loss: 0.4098\n",
      "Epoch [46/100], Loss: 0.3817\n",
      "Epoch [47/100], Loss: 0.3909\n",
      "Epoch [48/100], Loss: 0.3765\n",
      "Epoch [49/100], Loss: 0.3873\n",
      "Epoch [50/100], Loss: 0.3730\n",
      "Epoch [51/100], Loss: 0.3743\n",
      "Epoch [52/100], Loss: 0.3793\n",
      "Epoch [53/100], Loss: 0.3804\n",
      "Epoch [54/100], Loss: 0.3874\n",
      "Epoch [55/100], Loss: 0.3727\n",
      "Epoch [56/100], Loss: 0.3698\n",
      "Epoch [57/100], Loss: 0.3715\n",
      "Epoch [58/100], Loss: 0.3650\n",
      "Epoch [59/100], Loss: 0.3536\n",
      "Epoch [60/100], Loss: 0.3765\n",
      "Epoch [61/100], Loss: 0.3403\n",
      "Epoch [62/100], Loss: 0.3560\n",
      "Epoch [63/100], Loss: 0.3627\n",
      "Epoch [64/100], Loss: 0.3506\n",
      "Epoch [65/100], Loss: 0.3339\n",
      "Epoch [66/100], Loss: 0.3666\n",
      "Epoch [67/100], Loss: 0.3751\n",
      "Epoch [68/100], Loss: 0.3491\n",
      "Epoch [69/100], Loss: 0.3527\n",
      "Epoch [70/100], Loss: 0.3420\n",
      "Epoch [71/100], Loss: 0.3449\n",
      "Epoch [72/100], Loss: 0.3344\n",
      "Epoch [73/100], Loss: 0.3524\n",
      "Epoch [74/100], Loss: 0.3604\n",
      "Epoch [75/100], Loss: 0.3390\n",
      "Epoch [76/100], Loss: 0.3679\n",
      "Epoch [77/100], Loss: 0.3332\n",
      "Epoch [78/100], Loss: 0.3510\n",
      "Epoch [79/100], Loss: 0.3302\n",
      "Epoch [80/100], Loss: 0.3295\n",
      "Epoch [81/100], Loss: 0.3332\n",
      "Epoch [82/100], Loss: 0.3316\n",
      "Epoch [83/100], Loss: 0.3358\n",
      "Epoch [84/100], Loss: 0.3412\n",
      "Epoch [85/100], Loss: 0.3400\n",
      "Epoch [86/100], Loss: 0.3295\n",
      "Epoch [87/100], Loss: 0.3146\n",
      "Epoch [88/100], Loss: 0.3132\n",
      "Epoch [89/100], Loss: 0.3063\n",
      "Epoch [90/100], Loss: 0.3101\n",
      "Epoch [91/100], Loss: 0.3155\n",
      "Epoch [92/100], Loss: 0.3118\n",
      "Epoch [93/100], Loss: 0.3313\n",
      "Epoch [94/100], Loss: 0.2907\n",
      "Epoch [95/100], Loss: 0.3211\n",
      "Epoch [96/100], Loss: 0.3198\n",
      "Epoch [97/100], Loss: 0.3191\n",
      "Epoch [98/100], Loss: 0.3077\n",
      "Epoch [99/100], Loss: 0.3226\n",
      "Epoch [100/100], Loss: 0.3122\n"
     ]
    }
   ],
   "source": [
    "# Training loop\n",
    "for epoch in range(num_epochs):\n",
    "    model.train()\n",
    "    epoch_loss = 0.0\n",
    "\n",
    "    for batch_x, batch_y in train_dataloader:\n",
    "        batch_x = batch_x.to(device)\n",
    "        batch_y = batch_y.to(device)\n",
    "\n",
    "        logits = model(batch_x)\n",
    "        loss = criterion(logits, batch_y.view(-1, 1))\n",
    "\n",
    "        optimizer.zero_grad()\n",
    "        loss.backward()\n",
    "        optimizer.step()\n",
    "\n",
    "        epoch_loss += loss.item()\n",
    "\n",
    "    avg_loss = epoch_loss / len(train_dataloader)\n",
    "    print(f\"Epoch [{epoch+1}/{num_epochs}], Loss: {avg_loss:.4f}\")"
   ]
  },
  {
   "cell_type": "markdown",
   "id": "351c75f4",
   "metadata": {},
   "source": [
    "Finally, after training, the model is evaluated on the test set. The test features (Xte) are passed through the trained model to obtain predictions (y_pred).\n",
    "\n",
    "Since the model outputs raw values, a threshold of 0.5 is applied to convert them into binary predictions.\n",
    "The predicted labels are then compared with the true targets (yte) to calculate the accuracy, which measures the proportion of the correct predictions. \n",
    "\n",
    "The model achieved an accuracy of 77.3%"
   ]
  },
  {
   "cell_type": "code",
   "execution_count": null,
   "id": "49bf64b1",
   "metadata": {},
   "outputs": [
    {
     "name": "stdout",
     "output_type": "stream",
     "text": [
      "ACC:0.7727272727272727\n"
     ]
    }
   ],
   "source": [
    "y_pred=model(Xte)\n",
    "#performance metric for classification\n",
    "print(f'ACC:{accuracy_score(yte.detach().numpy(),y_pred.detach().numpy()>0.5)}') #classification"
   ]
  }
 ],
 "metadata": {
  "kernelspec": {
   "display_name": "intelligent-systems",
   "language": "python",
   "name": "python3"
  },
  "language_info": {
   "codemirror_mode": {
    "name": "ipython",
    "version": 3
   },
   "file_extension": ".py",
   "mimetype": "text/x-python",
   "name": "python",
   "nbconvert_exporter": "python",
   "pygments_lexer": "ipython3",
   "version": "3.13.7"
  }
 },
 "nbformat": 4,
 "nbformat_minor": 5
}
