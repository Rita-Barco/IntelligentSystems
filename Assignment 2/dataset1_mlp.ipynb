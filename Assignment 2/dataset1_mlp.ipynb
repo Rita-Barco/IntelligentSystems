{
 "cells": [
  {
   "cell_type": "markdown",
   "id": "1211196f",
   "metadata": {},
   "source": [
    "Link to my repo: https://github.com/Rita-Barco/IntelligentSystems.git"
   ]
  },
  {
   "cell_type": "markdown",
   "id": "eba70c9c",
   "metadata": {},
   "source": [
    "# Dataset 1 - Regression task using MLP"
   ]
  },
  {
   "cell_type": "code",
   "execution_count": 17,
   "id": "4c8691a9",
   "metadata": {},
   "outputs": [],
   "source": [
    "import numpy as np\n",
    "from sklearn import datasets\n",
    "from sklearn.preprocessing import StandardScaler\n",
    "from sklearn.model_selection import train_test_split\n",
    "from sklearn.metrics import mean_squared_error,accuracy_score,classification_report\n",
    "import matplotlib.pyplot as plt\n",
    "import torch.nn.functional as F\n",
    "import torch\n",
    "import torch.nn as nn\n",
    "import torch.optim as optim\n",
    "from torch.utils.data import TensorDataset, DataLoader\n",
    "import pandas"
   ]
  },
  {
   "cell_type": "markdown",
   "id": "529d05dc",
   "metadata": {},
   "source": [
    "Firstly, the dataset is loaded and the features (X) and target (y) are extracted as arrays. Next, the data is split into 80% training and 20% testing to evaluate the model performance, specifying a random state so that the data division will be equal at each run. Features are then scaled to have mean 0 and a standard deviation equal to 1, which helps models to converge faster and perform better."
   ]
  },
  {
   "cell_type": "code",
   "execution_count": 18,
   "id": "71d7c1ea",
   "metadata": {},
   "outputs": [],
   "source": [
    "# load dataset\n",
    "diabetes = datasets.load_diabetes(as_frame=True)\n",
    "X = diabetes.data.values\n",
    "y = diabetes.target.values\n",
    "X.shape\n",
    "\n",
    "# train test spliting\n",
    "test_size=0.2\n",
    "Xtr, Xte, ytr, yte = train_test_split(X, y, test_size=test_size, random_state=42)\n",
    "\n",
    "# Standardize features\n",
    "scaler=StandardScaler()\n",
    "Xtr= scaler.fit_transform(Xtr)\n",
    "Xte= scaler.transform(Xte)"
   ]
  },
  {
   "cell_type": "markdown",
   "id": "e37a7816",
   "metadata": {},
   "source": [
    "In this part of the code, the multilayer perceptron (MLP) is defined. It consists of an input layer, four fully connected hidden layers with 64 neurons each and a final output layer. After each hidden layer, a dropout operation is applied, with a default probability of 0.5. So, during training, half of the neurons are randomly deactivated to reduce overfitting and improve the network's ability to generalize. The hidden layers of this network use the ReLU (Rectified Linear Unit) activation function, which introduces non-linearity and enalbes the network to capture complex relationships in the data. On the other hand, the output layer has a single neuron and no activation function, leaving its interpretation and any task-specific processing to the choice of loss function. "
   ]
  },
  {
   "cell_type": "code",
   "execution_count": 19,
   "id": "887f2b0e",
   "metadata": {},
   "outputs": [],
   "source": [
    "class MLP(nn.Module):\n",
    "    def __init__(self, input_size, output_size=1, dropout_prob=0.5):\n",
    "        super(MLP, self).__init__()\n",
    "        \n",
    "        self.fc1 = nn.Linear(input_size, 64)\n",
    "        self.fc2 = nn.Linear(64, 64)\n",
    "        self.fc3 = nn.Linear(64, 64)\n",
    "        self.fc4 = nn.Linear(64, 64)\n",
    "        self.out = nn.Linear(64, output_size)\n",
    "        \n",
    "        self.dropout = nn.Dropout(p=dropout_prob)\n",
    "        \n",
    "    def forward(self, x):\n",
    "        x = F.relu(self.fc1(x))\n",
    "        x = self.dropout(x)\n",
    "        \n",
    "        x = F.relu(self.fc2(x))\n",
    "        x = self.dropout(x)\n",
    "        \n",
    "        x = F.relu(self.fc3(x))\n",
    "        x = self.dropout(x)\n",
    "        \n",
    "        x = F.relu(self.fc4(x))\n",
    "        x = self.dropout(x)\n",
    "        \n",
    "        x = self.out(x)\n",
    "        return x"
   ]
  },
  {
   "cell_type": "markdown",
   "id": "5fc30a8a",
   "metadata": {},
   "source": [
    "The next section specifies the hyperparameters of this MLP model. \n",
    "\n",
    "- epochs: The epochs are the number of times the training algorithm will iterate over the entire training dataset. Choosing a number too large might cause overfitting, while too small can result in underfitting. In this case, 100 epochs were used;\n",
    "\n",
    "- learning rate: This hyperparameter controls how much the model weights are updated in response to the computed gradient during training. In this case, larger numbers can accelerate training but may cause divergence, while smaller values may slow down convergence. A learning rate of 0.0005 is used to ensure small, stable weight updates;\n",
    "\n",
    "- dropout: a value of 0.1 was chosen, meaning 10% of neurons are ignored at each training step;\n",
    "\n",
    "- batch size: the batch size is the number of samples the model looks at before updating its weights. Smaller batch sizes can provide noisier gradient estimates, which may help the model generalize better. When a larger number is considered, it can provide more stable gradients, but requires more memory. In this case, a batch size of 64 was considered."
   ]
  },
  {
   "cell_type": "code",
   "execution_count": 20,
   "id": "95aa28b8",
   "metadata": {},
   "outputs": [],
   "source": [
    "num_epochs=100\n",
    "lr=0.0005\n",
    "dropout=0.1\n",
    "batch_size=64"
   ]
  },
  {
   "cell_type": "markdown",
   "id": "f0550ac6",
   "metadata": {},
   "source": [
    "Before training the model, the input features (Xtr, Xte) and targets (ytr, yte) are converted to PyTorch tensors. (Since PyTorch requires tensors for its computations and gradient tracking during training). Then, the training data is wrapped into a TensorDataset, which pairs each input sample with its corresponding target. This allows the data to be fed to the model in a structured way. Finally, a DataLoader is created from the TensorDataset. The DataLoader handles batching and shuffling: batching groups the training samples into batches of the specified batch_size (64) so that the model updates its weights after processing each batch, while shuffling randomly rearranges the data each epoch to improve generalization and prevent model from learning the order of samples."
   ]
  },
  {
   "cell_type": "code",
   "execution_count": 21,
   "id": "db6e2c78",
   "metadata": {},
   "outputs": [],
   "source": [
    "Xtr = torch.tensor(Xtr, dtype=torch.float32)\n",
    "ytr = torch.tensor(ytr, dtype=torch.float32)\n",
    "Xte = torch.tensor(Xte, dtype=torch.float32)\n",
    "yte = torch.tensor(yte, dtype=torch.float32)\n",
    "\n",
    "# Wrap Xtr and ytr into a dataset\n",
    "train_dataset = TensorDataset(Xtr, ytr)\n",
    "\n",
    "# Create DataLoader\n",
    "train_dataloader = DataLoader(train_dataset, batch_size=batch_size, shuffle=True)"
   ]
  },
  {
   "cell_type": "markdown",
   "id": "b06a7721",
   "metadata": {},
   "source": [
    "In this next code snippet, the model is created and moved to the appropriate device (GPU if available, otherwise CPU). The MLP is initialized with the number of input features and the specified dropout probability.\n",
    "\n",
    "For this regression problem, the loss function (criterion) is set to MSEloss, which computes the mean squared error between the predicted and target values. The optimizer is Adam, which updates the model's weights during training using the gradients, with the specified learing rate (lr) controlling the size of these updates."
   ]
  },
  {
   "cell_type": "code",
   "execution_count": 22,
   "id": "d82d9a2c",
   "metadata": {},
   "outputs": [],
   "source": [
    "# Model, Loss, Optimizer\n",
    "device = torch.device(\"cuda\" if torch.cuda.is_available() else \"cpu\")\n",
    "\n",
    "model = MLP(input_size=Xtr.shape[1], dropout_prob=dropout).to(device)\n",
    "criterion = nn.MSELoss() #for regression\n",
    "optimizer = optim.Adam(model.parameters(), lr=lr)"
   ]
  },
  {
   "cell_type": "markdown",
   "id": "b8d14640",
   "metadata": {},
   "source": [
    "The model is trained for the specified number of epochs. At the beginning of each epoch, the model is set to training mode. For each batch from the DataLoader, the input features and targets are moved to the appropriate device. The model then performs a forward pass to compute the predictions (logits) and the loss is calulated using the chosen loss function. \n",
    "Before backpropagation, the optimizer's gradients are reset to zero. The loss is then backpropagated through the network (loss.backward()) and the optimizer updates the model's weights (optimizer.step()). The loss for each batch is accumulated and the average loss for the epoch is printed to monitor training progress."
   ]
  },
  {
   "cell_type": "code",
   "execution_count": 23,
   "id": "f5ba86e0",
   "metadata": {},
   "outputs": [
    {
     "name": "stdout",
     "output_type": "stream",
     "text": [
      "Epoch [1/100], Loss: 29760.9639\n",
      "Epoch [2/100], Loss: 29803.5505\n",
      "Epoch [3/100], Loss: 29857.6924\n",
      "Epoch [4/100], Loss: 29556.0814\n",
      "Epoch [5/100], Loss: 29963.5443\n",
      "Epoch [6/100], Loss: 28830.6149\n",
      "Epoch [7/100], Loss: 29214.2806\n",
      "Epoch [8/100], Loss: 29536.1266\n",
      "Epoch [9/100], Loss: 29083.6439\n",
      "Epoch [10/100], Loss: 28211.2604\n",
      "Epoch [11/100], Loss: 26597.3750\n",
      "Epoch [12/100], Loss: 25526.9310\n",
      "Epoch [13/100], Loss: 23767.8890\n",
      "Epoch [14/100], Loss: 21694.3864\n",
      "Epoch [15/100], Loss: 17911.5622\n",
      "Epoch [16/100], Loss: 13723.1707\n",
      "Epoch [17/100], Loss: 9786.7581\n",
      "Epoch [18/100], Loss: 7009.6620\n",
      "Epoch [19/100], Loss: 5214.1973\n",
      "Epoch [20/100], Loss: 5194.0709\n",
      "Epoch [21/100], Loss: 5222.8859\n",
      "Epoch [22/100], Loss: 5059.2201\n",
      "Epoch [23/100], Loss: 4285.6366\n",
      "Epoch [24/100], Loss: 4335.4854\n",
      "Epoch [25/100], Loss: 4331.3950\n",
      "Epoch [26/100], Loss: 4167.3788\n",
      "Epoch [27/100], Loss: 4257.3170\n",
      "Epoch [28/100], Loss: 4275.1694\n",
      "Epoch [29/100], Loss: 4010.4833\n",
      "Epoch [30/100], Loss: 4014.7653\n",
      "Epoch [31/100], Loss: 3799.7451\n",
      "Epoch [32/100], Loss: 3713.5997\n",
      "Epoch [33/100], Loss: 4221.1515\n",
      "Epoch [34/100], Loss: 3769.0411\n",
      "Epoch [35/100], Loss: 4245.5807\n",
      "Epoch [36/100], Loss: 3840.4317\n",
      "Epoch [37/100], Loss: 3840.2629\n",
      "Epoch [38/100], Loss: 3882.0175\n",
      "Epoch [39/100], Loss: 3399.7114\n",
      "Epoch [40/100], Loss: 3716.4087\n",
      "Epoch [41/100], Loss: 3682.9519\n",
      "Epoch [42/100], Loss: 3562.9103\n",
      "Epoch [43/100], Loss: 3362.3349\n",
      "Epoch [44/100], Loss: 3537.4205\n",
      "Epoch [45/100], Loss: 3827.1790\n",
      "Epoch [46/100], Loss: 3600.8650\n",
      "Epoch [47/100], Loss: 3476.1572\n",
      "Epoch [48/100], Loss: 3686.6553\n",
      "Epoch [49/100], Loss: 3376.8837\n",
      "Epoch [50/100], Loss: 3511.6670\n",
      "Epoch [51/100], Loss: 3863.8995\n",
      "Epoch [52/100], Loss: 3593.1201\n",
      "Epoch [53/100], Loss: 3408.5070\n",
      "Epoch [54/100], Loss: 3393.0715\n",
      "Epoch [55/100], Loss: 3493.7136\n",
      "Epoch [56/100], Loss: 3295.8455\n",
      "Epoch [57/100], Loss: 3303.0164\n",
      "Epoch [58/100], Loss: 3797.9019\n",
      "Epoch [59/100], Loss: 3362.9409\n",
      "Epoch [60/100], Loss: 3258.8868\n",
      "Epoch [61/100], Loss: 3416.9947\n",
      "Epoch [62/100], Loss: 3670.8383\n",
      "Epoch [63/100], Loss: 3386.7396\n",
      "Epoch [64/100], Loss: 3253.2040\n",
      "Epoch [65/100], Loss: 3456.5486\n",
      "Epoch [66/100], Loss: 3348.5670\n",
      "Epoch [67/100], Loss: 3197.9277\n",
      "Epoch [68/100], Loss: 3058.1216\n",
      "Epoch [69/100], Loss: 3394.7253\n",
      "Epoch [70/100], Loss: 3122.1884\n",
      "Epoch [71/100], Loss: 3444.3293\n",
      "Epoch [72/100], Loss: 3362.8601\n",
      "Epoch [73/100], Loss: 3281.2714\n",
      "Epoch [74/100], Loss: 3377.2557\n",
      "Epoch [75/100], Loss: 3166.6180\n",
      "Epoch [76/100], Loss: 3012.9123\n",
      "Epoch [77/100], Loss: 3297.0583\n",
      "Epoch [78/100], Loss: 3042.9989\n",
      "Epoch [79/100], Loss: 3272.8101\n",
      "Epoch [80/100], Loss: 3226.8724\n",
      "Epoch [81/100], Loss: 3387.7167\n",
      "Epoch [82/100], Loss: 3149.9170\n",
      "Epoch [83/100], Loss: 3288.8385\n",
      "Epoch [84/100], Loss: 3210.9398\n",
      "Epoch [85/100], Loss: 3132.4415\n",
      "Epoch [86/100], Loss: 3187.4883\n",
      "Epoch [87/100], Loss: 3307.0449\n",
      "Epoch [88/100], Loss: 3342.8054\n",
      "Epoch [89/100], Loss: 3232.0435\n",
      "Epoch [90/100], Loss: 3269.5198\n",
      "Epoch [91/100], Loss: 3063.2028\n",
      "Epoch [92/100], Loss: 3144.3274\n",
      "Epoch [93/100], Loss: 3272.4751\n",
      "Epoch [94/100], Loss: 3324.6934\n",
      "Epoch [95/100], Loss: 3173.4518\n",
      "Epoch [96/100], Loss: 3243.6091\n",
      "Epoch [97/100], Loss: 3179.4027\n",
      "Epoch [98/100], Loss: 3209.8949\n",
      "Epoch [99/100], Loss: 3037.4340\n",
      "Epoch [100/100], Loss: 3064.2575\n"
     ]
    }
   ],
   "source": [
    "# Training loop\n",
    "for epoch in range(num_epochs):\n",
    "    model.train()\n",
    "    epoch_loss = 0.0\n",
    "\n",
    "    for batch_x, batch_y in train_dataloader:\n",
    "        batch_x = batch_x.to(device)\n",
    "        batch_y = batch_y.to(device)\n",
    "\n",
    "        logits = model(batch_x)\n",
    "        loss = criterion(logits, batch_y.view(-1, 1))\n",
    "\n",
    "        optimizer.zero_grad()\n",
    "        loss.backward()\n",
    "        optimizer.step()\n",
    "\n",
    "        epoch_loss += loss.item()\n",
    "\n",
    "    avg_loss = epoch_loss / len(train_dataloader)\n",
    "    print(f\"Epoch [{epoch+1}/{num_epochs}], Loss: {avg_loss:.4f}\")"
   ]
  },
  {
   "cell_type": "markdown",
   "id": "ac2d9cbc",
   "metadata": {},
   "source": [
    "Finally, after training, the model is evaluated on the test set. The test features (Xte) are passeed through the trained model to obtain predictions (y_pred).\n",
    "\n",
    "The predicted values are compared with the true targets (yte) to calculate the mean squared error (MSE), which measures the average squared difference between predicted and actual values. The model achieved an MSE of, approximately, 2958.78"
   ]
  },
  {
   "cell_type": "code",
   "execution_count": 24,
   "id": "49bf64b1",
   "metadata": {},
   "outputs": [
    {
     "name": "stdout",
     "output_type": "stream",
     "text": [
      "MSE:2958.782958984375\n"
     ]
    }
   ],
   "source": [
    "y_pred=model(Xte)\n",
    "print(f'MSE:{mean_squared_error(yte.detach().numpy(),y_pred.detach().numpy())}') #regression"
   ]
  }
 ],
 "metadata": {
  "kernelspec": {
   "display_name": "intelligent-systems",
   "language": "python",
   "name": "python3"
  },
  "language_info": {
   "codemirror_mode": {
    "name": "ipython",
    "version": 3
   },
   "file_extension": ".py",
   "mimetype": "text/x-python",
   "name": "python",
   "nbconvert_exporter": "python",
   "pygments_lexer": "ipython3",
   "version": "3.13.7"
  }
 },
 "nbformat": 4,
 "nbformat_minor": 5
}
