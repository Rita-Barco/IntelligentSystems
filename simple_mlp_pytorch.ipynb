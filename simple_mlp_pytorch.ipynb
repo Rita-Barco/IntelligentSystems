{
 "cells": [
  {
   "cell_type": "code",
   "execution_count": 86,
   "id": "c6428f9d",
   "metadata": {},
   "outputs": [],
   "source": [
    "import numpy as np\n",
    "from sklearn import datasets\n",
    "from sklearn.preprocessing import StandardScaler\n",
    "from sklearn.model_selection import train_test_split\n",
    "from sklearn.metrics import mean_squared_error,accuracy_score,classification_report\n",
    "import matplotlib.pyplot as plt\n",
    "import torch.nn.functional as F\n",
    "import torch\n",
    "import torch.nn as nn\n",
    "import torch.optim as optim\n",
    "from torch.utils.data import TensorDataset, DataLoader\n",
    "import pandas"
   ]
  },
  {
   "cell_type": "code",
   "execution_count": 87,
   "id": "0a386c10",
   "metadata": {},
   "outputs": [
    {
     "data": {
      "text/plain": [
       "(506, 13)"
      ]
     },
     "execution_count": 87,
     "metadata": {},
     "output_type": "execute_result"
    }
   ],
   "source": [
    "# CHOOSE DATASET\n",
    "\n",
    "# Binary classification dataset\n",
    "data = datasets.load_breast_cancer(as_frame=True)\n",
    "\n",
    "# Regression dataset\n",
    "data = datasets.fetch_openml(name=\"boston\",version=1, as_frame=True) \n",
    "\n",
    "X = data.data.values\n",
    "y = data.target.values \n",
    "X.shape"
   ]
  },
  {
   "cell_type": "code",
   "execution_count": 88,
   "id": "aafa6216",
   "metadata": {},
   "outputs": [],
   "source": [
    "#train test spliting\n",
    "test_size=0.2\n",
    "Xtr, Xte, ytr, yte = train_test_split(X, y, test_size=test_size, random_state=42)"
   ]
  },
  {
   "cell_type": "code",
   "execution_count": 89,
   "id": "2dfc9566",
   "metadata": {},
   "outputs": [],
   "source": [
    "# Standardize features\n",
    "scaler=StandardScaler()\n",
    "Xtr= scaler.fit_transform(Xtr)\n",
    "Xte= scaler.transform(Xte)"
   ]
  },
  {
   "cell_type": "code",
   "execution_count": 90,
   "id": "99c0966d",
   "metadata": {},
   "outputs": [],
   "source": [
    "class MLP(nn.Module):\n",
    "    def __init__(self, input_size, output_size=1, dropout_prob=0.5):\n",
    "        super(MLP, self).__init__()\n",
    "        \n",
    "        self.fc1 = nn.Linear(input_size, 64)\n",
    "        self.fc2 = nn.Linear(64, 64)\n",
    "        self.fc3 = nn.Linear(64, 64)\n",
    "        self.fc4 = nn.Linear(64, 64)\n",
    "        self.out = nn.Linear(64, output_size)\n",
    "        \n",
    "        self.dropout = nn.Dropout(p=dropout_prob)\n",
    "        \n",
    "    def forward(self, x):\n",
    "        x = F.relu(self.fc1(x))\n",
    "        x = self.dropout(x)\n",
    "        \n",
    "        x = F.relu(self.fc2(x))\n",
    "        x = self.dropout(x)\n",
    "        \n",
    "        x = F.relu(self.fc3(x))\n",
    "        x = self.dropout(x)\n",
    "        \n",
    "        x = F.relu(self.fc4(x))\n",
    "        x = self.dropout(x)\n",
    "        \n",
    "        x = self.out(x)\n",
    "        return x"
   ]
  },
  {
   "cell_type": "code",
   "execution_count": 91,
   "id": "2ab972de",
   "metadata": {},
   "outputs": [],
   "source": [
    "num_epochs=100\n",
    "lr=0.0005\n",
    "dropout=0.1\n",
    "batch_size=64"
   ]
  },
  {
   "cell_type": "code",
   "execution_count": 92,
   "id": "49298ada",
   "metadata": {},
   "outputs": [],
   "source": [
    "Xtr = torch.tensor(Xtr, dtype=torch.float32)\n",
    "ytr = torch.tensor(ytr, dtype=torch.float32)\n",
    "Xte = torch.tensor(Xte, dtype=torch.float32)\n",
    "yte = torch.tensor(yte, dtype=torch.float32)\n",
    "\n",
    "# Wrap Xtr and ytr into a dataset\n",
    "train_dataset = TensorDataset(Xtr, ytr)\n",
    "\n",
    "# Create DataLoader\n",
    "train_dataloader = DataLoader(train_dataset, batch_size=batch_size, shuffle=True)"
   ]
  },
  {
   "cell_type": "code",
   "execution_count": 93,
   "id": "8e649c6f",
   "metadata": {},
   "outputs": [],
   "source": [
    "# Model, Loss, Optimizer\n",
    "device = torch.device(\"cuda\" if torch.cuda.is_available() else \"cpu\")\n",
    "\n",
    "model = MLP(input_size=Xtr.shape[1], dropout_prob=dropout).to(device)\n",
    "criterion = nn.BCEWithLogitsLoss()  # for binary classification\n",
    "criterion = nn.MSELoss() #for regression\n",
    "optimizer = optim.Adam(model.parameters(), lr=lr)"
   ]
  },
  {
   "cell_type": "code",
   "execution_count": 94,
   "id": "e02dec66",
   "metadata": {},
   "outputs": [
    {
     "name": "stdout",
     "output_type": "stream",
     "text": [
      "Epoch [1/100], Loss: 592.8591\n",
      "Epoch [2/100], Loss: 594.5111\n",
      "Epoch [3/100], Loss: 604.0402\n",
      "Epoch [4/100], Loss: 594.9576\n",
      "Epoch [5/100], Loss: 565.4299\n",
      "Epoch [6/100], Loss: 533.9412\n",
      "Epoch [7/100], Loss: 509.8226\n",
      "Epoch [8/100], Loss: 411.6915\n",
      "Epoch [9/100], Loss: 311.1153\n",
      "Epoch [10/100], Loss: 192.7836\n",
      "Epoch [11/100], Loss: 113.6246\n",
      "Epoch [12/100], Loss: 99.5156\n",
      "Epoch [13/100], Loss: 83.5621\n",
      "Epoch [14/100], Loss: 71.5500\n",
      "Epoch [15/100], Loss: 65.8479\n",
      "Epoch [16/100], Loss: 50.8383\n",
      "Epoch [17/100], Loss: 45.5812\n",
      "Epoch [18/100], Loss: 39.5605\n",
      "Epoch [19/100], Loss: 37.8969\n",
      "Epoch [20/100], Loss: 36.1531\n",
      "Epoch [21/100], Loss: 30.3478\n",
      "Epoch [22/100], Loss: 33.0839\n",
      "Epoch [23/100], Loss: 30.4297\n",
      "Epoch [24/100], Loss: 35.3256\n",
      "Epoch [25/100], Loss: 30.1855\n",
      "Epoch [26/100], Loss: 30.2523\n",
      "Epoch [27/100], Loss: 27.1450\n",
      "Epoch [28/100], Loss: 30.3467\n",
      "Epoch [29/100], Loss: 27.5267\n",
      "Epoch [30/100], Loss: 28.8545\n",
      "Epoch [31/100], Loss: 28.0572\n",
      "Epoch [32/100], Loss: 28.8432\n",
      "Epoch [33/100], Loss: 25.0516\n",
      "Epoch [34/100], Loss: 30.2059\n",
      "Epoch [35/100], Loss: 26.8338\n",
      "Epoch [36/100], Loss: 23.6204\n",
      "Epoch [37/100], Loss: 25.0836\n",
      "Epoch [38/100], Loss: 27.7592\n",
      "Epoch [39/100], Loss: 26.9856\n",
      "Epoch [40/100], Loss: 24.7908\n",
      "Epoch [41/100], Loss: 26.9574\n",
      "Epoch [42/100], Loss: 27.9896\n",
      "Epoch [43/100], Loss: 23.2254\n",
      "Epoch [44/100], Loss: 24.4888\n",
      "Epoch [45/100], Loss: 25.7833\n",
      "Epoch [46/100], Loss: 22.6118\n",
      "Epoch [47/100], Loss: 21.2641\n",
      "Epoch [48/100], Loss: 23.3859\n",
      "Epoch [49/100], Loss: 22.2922\n",
      "Epoch [50/100], Loss: 25.2597\n",
      "Epoch [51/100], Loss: 22.1496\n",
      "Epoch [52/100], Loss: 21.4443\n",
      "Epoch [53/100], Loss: 22.1555\n",
      "Epoch [54/100], Loss: 21.8415\n",
      "Epoch [55/100], Loss: 23.5540\n",
      "Epoch [56/100], Loss: 22.9468\n",
      "Epoch [57/100], Loss: 22.8153\n",
      "Epoch [58/100], Loss: 23.6495\n",
      "Epoch [59/100], Loss: 20.0499\n",
      "Epoch [60/100], Loss: 19.7254\n",
      "Epoch [61/100], Loss: 25.3082\n",
      "Epoch [62/100], Loss: 21.9948\n",
      "Epoch [63/100], Loss: 22.7711\n",
      "Epoch [64/100], Loss: 21.0375\n",
      "Epoch [65/100], Loss: 21.0970\n",
      "Epoch [66/100], Loss: 24.1226\n",
      "Epoch [67/100], Loss: 20.3626\n",
      "Epoch [68/100], Loss: 18.7042\n",
      "Epoch [69/100], Loss: 22.2270\n",
      "Epoch [70/100], Loss: 20.0998\n",
      "Epoch [71/100], Loss: 19.4213\n",
      "Epoch [72/100], Loss: 22.6362\n",
      "Epoch [73/100], Loss: 18.5653\n",
      "Epoch [74/100], Loss: 19.7606\n",
      "Epoch [75/100], Loss: 23.6945\n",
      "Epoch [76/100], Loss: 18.3363\n",
      "Epoch [77/100], Loss: 21.1885\n",
      "Epoch [78/100], Loss: 19.2003\n",
      "Epoch [79/100], Loss: 20.9597\n",
      "Epoch [80/100], Loss: 19.4553\n",
      "Epoch [81/100], Loss: 16.8801\n",
      "Epoch [82/100], Loss: 19.4073\n",
      "Epoch [83/100], Loss: 18.5582\n",
      "Epoch [84/100], Loss: 21.3116\n",
      "Epoch [85/100], Loss: 18.2202\n",
      "Epoch [86/100], Loss: 19.8383\n",
      "Epoch [87/100], Loss: 19.6868\n",
      "Epoch [88/100], Loss: 19.4760\n",
      "Epoch [89/100], Loss: 17.9111\n",
      "Epoch [90/100], Loss: 20.3384\n",
      "Epoch [91/100], Loss: 17.5726\n",
      "Epoch [92/100], Loss: 17.7694\n",
      "Epoch [93/100], Loss: 20.6258\n",
      "Epoch [94/100], Loss: 20.3587\n",
      "Epoch [95/100], Loss: 17.8566\n",
      "Epoch [96/100], Loss: 18.7680\n",
      "Epoch [97/100], Loss: 17.9012\n",
      "Epoch [98/100], Loss: 18.1815\n",
      "Epoch [99/100], Loss: 18.7943\n",
      "Epoch [100/100], Loss: 19.9406\n"
     ]
    }
   ],
   "source": [
    "# Training loop\n",
    "for epoch in range(num_epochs):\n",
    "    model.train()\n",
    "    epoch_loss = 0.0\n",
    "\n",
    "    for batch_x, batch_y in train_dataloader:\n",
    "        batch_x = batch_x.to(device)\n",
    "        batch_y = batch_y.to(device)\n",
    "\n",
    "        logits = model(batch_x)\n",
    "        loss = criterion(logits, batch_y.view(-1, 1))\n",
    "\n",
    "        optimizer.zero_grad()\n",
    "        loss.backward()\n",
    "        optimizer.step()\n",
    "\n",
    "        epoch_loss += loss.item()\n",
    "\n",
    "    avg_loss = epoch_loss / len(train_dataloader)\n",
    "    print(f\"Epoch [{epoch+1}/{num_epochs}], Loss: {avg_loss:.4f}\")"
   ]
  },
  {
   "cell_type": "code",
   "execution_count": 95,
   "id": "dc271f10",
   "metadata": {},
   "outputs": [
    {
     "name": "stdout",
     "output_type": "stream",
     "text": [
      "MSE:20.853485107421875\n"
     ]
    }
   ],
   "source": [
    "y_pred=model(Xte)\n",
    "#print(f'ACC:{accuracy_score(yte.detach().numpy(),y_pred.detach().numpy()>0.5)}') #classification\n",
    "print(f'MSE:{mean_squared_error(yte.detach().numpy(),y_pred.detach().numpy())}') #regression"
   ]
  }
 ],
 "metadata": {
  "kernelspec": {
   "display_name": "SI2526",
   "language": "python",
   "name": "python3"
  },
  "language_info": {
   "codemirror_mode": {
    "name": "ipython",
    "version": 3
   },
   "file_extension": ".py",
   "mimetype": "text/x-python",
   "name": "python",
   "nbconvert_exporter": "python",
   "pygments_lexer": "ipython3",
   "version": "3.12.11"
  }
 },
 "nbformat": 4,
 "nbformat_minor": 5
}
