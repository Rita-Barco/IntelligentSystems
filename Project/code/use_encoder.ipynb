{
 "cells": [
  {
   "cell_type": "code",
   "execution_count": null,
   "id": "b814e9d4",
   "metadata": {},
   "outputs": [],
   "source": [
    "import torch\n",
    "from torchvision import datasets, transforms\n",
    "from torch.utils.data import DataLoader\n",
    "import numpy as np\n",
    "import os\n",
    "\n",
    "from train_autoencoder import Encoder\n"
   ]
  },
  {
   "cell_type": "code",
   "execution_count": null,
   "id": "533704cb",
   "metadata": {},
   "outputs": [],
   "source": [
    "# transforms for data preprocessing\n",
    "transform = transforms.Compose([\n",
    "    transforms.Resize((128, 128)),\n",
    "    transforms.ToTensor()\n",
    "])\n",
    "\n",
    "base_dir = os.getcwd()\n",
    "data_dir = os.path.join(base_dir, 'split_dataset')\n",
    "train_dir = os.path.join(data_dir, 'train')\n",
    "\n",
    "test_realworld_dir  = os.path.join(data_dir, 'test_realworld')\n",
    "test_studio_dir  = os.path.join(data_dir, 'test_studio')"
   ]
  },
  {
   "cell_type": "code",
   "execution_count": null,
   "id": "71b91b1d",
   "metadata": {},
   "outputs": [],
   "source": [
    "# choose the best device to run on\n",
    "device = torch.device(\"cuda\" if torch.cuda.is_available() else \"cpu\")\n",
    "\n",
    "encoder = Encoder(in_channels=3) # new encoder object of the Encoder class defined; dame architecture for the saved weights\n",
    "encoder.load_state_dict(torch.load(\"encoder.pth\", map_location=device))\n",
    "encoder.to(device)\n",
    "encoder.eval()"
   ]
  },
  {
   "cell_type": "code",
   "execution_count": null,
   "id": "d7926e83",
   "metadata": {},
   "outputs": [],
   "source": [
    "# Extract features (the loop you mentioned)\n",
    "train_features = []\n",
    "train_labels = []\n",
    "\n",
    "with torch.no_grad():\n",
    "    for data, labels in train_loader:\n",
    "        data = data.to(device)\n",
    "        latent = encoder(data)\n",
    "        latent_flat = latent.view(latent.size(0), -1)\n",
    "        train_features.append(latent_flat.cpu())\n",
    "        train_labels.append(labels)\n",
    "\n",
    "train_features = torch.cat(train_features, dim=0).numpy()\n",
    "train_labels = torch.cat(train_labels, dim=0).numpy()\n",
    "\n",
    "# Repeat for test set\n",
    "test_features = []\n",
    "test_labels = []\n",
    "\n",
    "with torch.no_grad():\n",
    "    for data, labels in test_loader:\n",
    "        data = data.to(device)\n",
    "        latent = encoder(data)\n",
    "        latent_flat = latent.view(latent.size(0), -1)\n",
    "        test_features.append(latent_flat.cpu())\n",
    "        test_labels.append(labels)\n",
    "\n",
    "test_features = torch.cat(test_features, dim=0).numpy()\n",
    "test_labels = torch.cat(test_labels, dim=0).numpy()\n",
    "\n",
    "# 7️⃣ Save extracted features\n",
    "np.save(\"train_features.npy\", train_features)\n",
    "np.save(\"train_labels.npy\", train_labels)\n",
    "np.save(\"test_features.npy\", test_features)\n",
    "np.save(\"test_labels.npy\", test_labels)\n",
    "\n",
    "print(\"Feature extraction completed and saved!\")"
   ]
  }
 ],
 "metadata": {
  "language_info": {
   "name": "python"
  }
 },
 "nbformat": 4,
 "nbformat_minor": 5
}
