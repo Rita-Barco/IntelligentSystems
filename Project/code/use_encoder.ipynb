{
 "cells": [
  {
   "cell_type": "code",
   "execution_count": null,
   "id": "b814e9d4",
   "metadata": {},
   "outputs": [],
   "source": [
    "import torch\n",
    "from train_autoencoder import Encoder, ConvAutoencoder, Decoder"
   ]
  }
 ],
 "metadata": {
  "language_info": {
   "name": "python"
  }
 },
 "nbformat": 4,
 "nbformat_minor": 5
}
