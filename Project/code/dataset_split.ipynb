{
 "cells": [
  {
   "cell_type": "code",
   "execution_count": null,
   "id": "81440ad2",
   "metadata": {},
   "outputs": [],
   "source": [
    "import splitfolders\n",
    "\n",
    "# code to split the dataset into train and test in different folders \n",
    "# the test dataset was manually modified to have 2 separate categories: studio-like images and real-world images\n",
    "\n",
    "# dataset directory\n",
    "image_directory= r'C:\\Users\\Rita Barco\\Documents\\GitHub\\IntelligentSystems\\Project\\garbage-dataset'\n",
    "\n",
    "# 80% for training and 20% for testing\n",
    "splitfolders.ratio(image_directory, output=\"split_dataset\",\n",
    "        seed=42, ratio=(0.8, 0.2), group_prefix=None, move=False) "
   ]
  }
 ],
 "metadata": {
  "kernelspec": {
   "display_name": "intelligent-systems",
   "language": "python",
   "name": "python3"
  },
  "language_info": {
   "codemirror_mode": {
    "name": "ipython",
    "version": 3
   },
   "file_extension": ".py",
   "mimetype": "text/x-python",
   "name": "python",
   "nbconvert_exporter": "python",
   "pygments_lexer": "ipython3",
   "version": "3.13.7"
  }
 },
 "nbformat": 4,
 "nbformat_minor": 5
}
