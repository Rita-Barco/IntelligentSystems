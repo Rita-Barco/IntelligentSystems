{
 "cells": [
  {
   "cell_type": "code",
   "execution_count": 24,
   "id": "c6428f9d",
   "metadata": {},
   "outputs": [],
   "source": [
    "import numpy as np\n",
    "from sklearn import datasets\n",
    "from sklearn.preprocessing import StandardScaler\n",
    "from sklearn.model_selection import train_test_split\n",
    "from sklearn.metrics import mean_squared_error,accuracy_score,classification_report\n",
    "import matplotlib.pyplot as plt\n",
    "import torch.nn.functional as F\n",
    "import torch\n",
    "import torch.nn as nn\n",
    "import torch.optim as optim\n",
    "from torch.utils.data import TensorDataset, DataLoader\n",
    "import pandas"
   ]
  },
  {
   "cell_type": "code",
   "execution_count": 26,
   "id": "0a386c10",
   "metadata": {},
   "outputs": [],
   "source": [
    "Xtr = np.load(\"train_features.npy\")\n",
    "ytr = np.load(\"train_labels.npy\")\n",
    "num_classes = np.max(ytr) + 1\n",
    "\n",
    "\n",
    "scaler=StandardScaler()\n",
    "Xtr= scaler.fit_transform(Xtr)\n",
    "#Xte= scaler.transform(Xte)"
   ]
  },
  {
   "cell_type": "code",
   "execution_count": null,
   "id": "99c0966d",
   "metadata": {},
   "outputs": [],
   "source": [
    "class MLP(nn.Module):\n",
    "    def __init__(self, input_size, output_size=num_classes, dropout_prob=0.5):\n",
    "        super(MLP, self).__init__()\n",
    "        \n",
    "        self.fc1 = nn.Linear(input_size, 64)\n",
    "        self.fc2 = nn.Linear(64, 64)\n",
    "        self.fc3 = nn.Linear(64, 64)\n",
    "        self.fc4 = nn.Linear(64, 64)\n",
    "        self.out = nn.Linear(64, output_size)\n",
    "        \n",
    "        self.dropout = nn.Dropout(p=dropout_prob)\n",
    "        \n",
    "    def forward(self, x):\n",
    "        x = F.relu(self.fc1(x))\n",
    "        x = self.dropout(x)\n",
    "        \n",
    "        x = F.relu(self.fc2(x))\n",
    "        x = self.dropout(x)\n",
    "        \n",
    "        x = F.relu(self.fc3(x))\n",
    "        x = self.dropout(x)\n",
    "        \n",
    "        x = F.relu(self.fc4(x))\n",
    "        x = self.dropout(x)\n",
    "        \n",
    "        x = self.out(x)\n",
    "        return x"
   ]
  },
  {
   "cell_type": "code",
   "execution_count": null,
   "id": "31e427a0",
   "metadata": {},
   "outputs": [],
   "source": [
    "class MLP_Simple(nn.Module):\n",
    "    def __init__(self, input_size, output_size, hidden_size=128, dropout_prob=0.1):\n",
    "        super().__init__()\n",
    "        self.fc1 = nn.Linear(input_size, hidden_size)\n",
    "        self.dropout = nn.Dropout(0.1)\n",
    "        self.out = nn.Linear(hidden_size, output_size)\n",
    "        \n",
    "    def forward(self, x):\n",
    "        x = F.relu(self.fc1(x))\n",
    "        x = self.dropout(x)\n",
    "        x = self.out(x)\n",
    "        return x\n"
   ]
  },
  {
   "cell_type": "code",
   "execution_count": null,
   "id": "835c7b5f",
   "metadata": {},
   "outputs": [],
   "source": [
    "# já corrido, file mlp_garbage_classifier_1.pth\n",
    "\n",
    "class MLP_Improved(nn.Module):\n",
    "    def __init__(self, input_size, reduced_size=2048, hidden1=1024, hidden2=512, output_size=num_classes, dropout_prob=0.2):\n",
    "        super().__init__()\n",
    "        self.fc_reduce = nn.Linear(input_size, reduced_size)\n",
    "        self.fc1 = nn.Linear(reduced_size, hidden1)\n",
    "        self.fc2 = nn.Linear(hidden1, hidden2)\n",
    "        self.out = nn.Linear(hidden2, output_size)\n",
    "        self.dropout = nn.Dropout(p=dropout_prob)\n",
    "\n",
    "    def forward(self, x):\n",
    "        x = F.relu(self.fc_reduce(x))\n",
    "        x = F.relu(self.fc1(x))\n",
    "        x = self.dropout(x)\n",
    "        x = F.relu(self.fc2(x))\n",
    "        x = self.dropout(x)\n",
    "        x = self.out(x)\n",
    "        return x"
   ]
  },
  {
   "cell_type": "code",
   "execution_count": 30,
   "id": "ed770377",
   "metadata": {},
   "outputs": [],
   "source": [
    "class MLP_Improved_2(nn.Module):\n",
    "    def __init__(self, input_size, output_size=num_classes, dropout_prob=0.3):\n",
    "        super().__init__()\n",
    "        self.fc1 = nn.Linear(input_size, 1024)\n",
    "        self.fc2 = nn.Linear(1024, 512)\n",
    "        self.fc3 = nn.Linear(512, 256)\n",
    "        self.dropout = nn.Dropout(p=dropout_prob)\n",
    "        self.out = nn.Linear(256, output_size)\n",
    "\n",
    "    def forward(self, x):\n",
    "        x = F.relu(self.fc1(x))\n",
    "        x = self.dropout(x)\n",
    "        x = F.relu(self.fc2(x))\n",
    "        x = self.dropout(x)\n",
    "        x = F.relu(self.fc3(x))\n",
    "        x = self.dropout(x)\n",
    "        x = self.out(x)\n",
    "        return x\n"
   ]
  },
  {
   "cell_type": "code",
   "execution_count": 28,
   "id": "2ab972de",
   "metadata": {},
   "outputs": [],
   "source": [
    "num_epochs=100\n",
    "lr=0.0005\n",
    "dropout=0.2\n",
    "batch_size=32"
   ]
  },
  {
   "cell_type": "code",
   "execution_count": 29,
   "id": "49298ada",
   "metadata": {},
   "outputs": [],
   "source": [
    "Xtr = torch.tensor(Xtr, dtype=torch.float32)\n",
    "ytr = torch.tensor(ytr, dtype=torch.long)\n",
    "#Xte = torch.tensor(Xte, dtype=torch.float32)\n",
    "#yte = torch.tensor(yte, dtype=torch.float32)\n",
    "\n",
    "# Wrap Xtr and ytr into a dataset\n",
    "train_dataset = TensorDataset(Xtr, ytr)\n",
    "\n",
    "# Create DataLoader\n",
    "train_dataloader = DataLoader(train_dataset, batch_size=batch_size, shuffle=True)"
   ]
  },
  {
   "cell_type": "code",
   "execution_count": null,
   "id": "8e649c6f",
   "metadata": {},
   "outputs": [],
   "source": [
    "# Model, Loss, Optimizer\n",
    "device = torch.device(\"cuda\" if torch.cuda.is_available() else \"cpu\")\n",
    "\n",
    "model = MLP(input_size=Xtr.shape[1], dropout_prob=dropout).to(device)\n",
    "criterion = nn.CrossEntropyLoss()  # for multi-class classification\n",
    "optimizer = optim.Adam(model.parameters(), lr=lr)"
   ]
  },
  {
   "cell_type": "code",
   "execution_count": null,
   "id": "2486414f",
   "metadata": {},
   "outputs": [],
   "source": [
    "# Model, Loss, Optimizer\n",
    "device = torch.device(\"cuda\" if torch.cuda.is_available() else \"cpu\")\n",
    "\n",
    "model = MLP_Simple(input_size=Xtr.shape[1], output_size=num_classes, hidden_size=128, dropout_prob=0.1).to(device)\n",
    "criterion = nn.CrossEntropyLoss()  # for multi-class classification\n",
    "optimizer = optim.Adam(model.parameters(), lr=lr)"
   ]
  },
  {
   "cell_type": "code",
   "execution_count": 31,
   "id": "ba12d5a1",
   "metadata": {},
   "outputs": [],
   "source": [
    "# Model, Loss, Optimizer\n",
    "device = torch.device(\"cuda\" if torch.cuda.is_available() else \"cpu\")\n",
    "\n",
    "model = MLP_Improved_2(input_size=Xtr.shape[1]).to(device)\n",
    "criterion = nn.CrossEntropyLoss()  # for multi-class classification\n",
    "optimizer = optim.Adam(model.parameters(), lr=lr)"
   ]
  },
  {
   "cell_type": "code",
   "execution_count": null,
   "id": "e02dec66",
   "metadata": {},
   "outputs": [],
   "source": [
    "# Training loop\n",
    "for epoch in range(num_epochs):\n",
    "    model.train()\n",
    "    epoch_loss = 0.0\n",
    "\n",
    "    for batch_x, batch_y in train_dataloader:\n",
    "        batch_x = batch_x.to(device)\n",
    "        batch_y = batch_y.to(device)\n",
    "\n",
    "        logits = model(batch_x)\n",
    "        loss = criterion(logits, batch_y)\n",
    "\n",
    "        optimizer.zero_grad()\n",
    "        loss.backward()\n",
    "        optimizer.step()\n",
    "\n",
    "        epoch_loss += loss.item()\n",
    "\n",
    "    avg_loss = epoch_loss / len(train_dataloader)\n",
    "    print(f\"Epoch [{epoch+1}/{num_epochs}], Loss: {avg_loss:.4f}\")"
   ]
  },
  {
   "cell_type": "code",
   "execution_count": null,
   "id": "684bc9ff",
   "metadata": {},
   "outputs": [],
   "source": [
    "Xtest_studio = np.load(\"test_studio_features.npy\")\n",
    "ytest_studio = np.load(\"test_studio_labels.npy\")\n",
    "\n",
    "Xtest_studio = torch.tensor(Xtest_studio, dtype=torch.float32)\n",
    "ytest_studio = torch.tensor(ytest_studio , dtype=torch.long)"
   ]
  },
  {
   "cell_type": "code",
   "execution_count": null,
   "id": "5a57f32a",
   "metadata": {},
   "outputs": [],
   "source": [
    "device = torch.device(\"cuda\" if torch.cuda.is_available() else \"cpu\")\n",
    "\n",
    "Xtest_studio = Xtest_studio.to(device)\n",
    "ytest_studio = ytest_studio.to(device)\n",
    "\n",
    "model = model.to(device)\n",
    "model.eval()  # set model to evaluation mode\n",
    "\n",
    "\n",
    "with torch.no_grad():  # disable gradient computation\n",
    "    logits = model(Xtest_studio)                 # forward pass\n",
    "    preds = torch.argmax(logits, dim=1)          # get class indices\n",
    "\n",
    "\n",
    "from sklearn.metrics import accuracy_score, classification_report\n",
    "\n",
    "y_true = ytest_studio.cpu().numpy()  # true labels\n",
    "y_pred = preds.cpu().numpy()         # predicted labels\n",
    "\n",
    "# Overall accuracy\n",
    "accuracy = accuracy_score(y_true, y_pred)\n",
    "print(\"Accuracy:\", accuracy)\n",
    "\n",
    "# Full classification report (precision, recall, F1-score per class)\n",
    "report = classification_report(y_true, y_pred)\n",
    "print(report)"
   ]
  },
  {
   "cell_type": "code",
   "execution_count": null,
   "id": "251862ce",
   "metadata": {},
   "outputs": [],
   "source": [
    "device = torch.device(\"cuda\" if torch.cuda.is_available() else \"cpu\")\n",
    "\n",
    "Xtr = Xtr.to(device)\n",
    "ytr = ytr.to(device)\n",
    "\n",
    "model = model.to(device)\n",
    "model.eval()  # set model to evaluation mode\n",
    "\n",
    "\n",
    "with torch.no_grad():  # disable gradient computation\n",
    "    logits = model(Xtr)                 # forward pass\n",
    "    preds = torch.argmax(logits, dim=1)          # get class indices\n",
    "\n",
    "\n",
    "from sklearn.metrics import accuracy_score, classification_report\n",
    "\n",
    "y_true = ytr.cpu().numpy()  # true labels\n",
    "y_pred = preds.cpu().numpy()         # predicted labels\n",
    "\n",
    "# Overall accuracy\n",
    "accuracy = accuracy_score(y_true, y_pred)\n",
    "print(\"Accuracy:\", accuracy)\n",
    "\n",
    "# Full classification report (precision, recall, F1-score per class)\n",
    "report = classification_report(y_true, y_pred)\n",
    "print(report)"
   ]
  },
  {
   "cell_type": "code",
   "execution_count": null,
   "id": "dc271f10",
   "metadata": {},
   "outputs": [],
   "source": [
    "y_pred=model(Xtest_studio)\n",
    "print(f'ACC:{accuracy_score(ytest_studio.detach().numpy(),y_pred.detach().numpy()>0.5)}') #classification\n",
    "#print(f'MSE:{mean_squared_error(yte.detach().numpy(),y_pred.detach().numpy())}') #regression"
   ]
  },
  {
   "cell_type": "code",
   "execution_count": null,
   "id": "e82af15c",
   "metadata": {},
   "outputs": [],
   "source": [
    "torch.save(model.state_dict(), \"mlp_garbage_classifier_1.pth\")\n"
   ]
  }
 ],
 "metadata": {
  "kernelspec": {
   "display_name": "intelligent-systems",
   "language": "python",
   "name": "python3"
  },
  "language_info": {
   "codemirror_mode": {
    "name": "ipython",
    "version": 3
   },
   "file_extension": ".py",
   "mimetype": "text/x-python",
   "name": "python",
   "nbconvert_exporter": "python",
   "pygments_lexer": "ipython3",
   "version": "3.13.7"
  }
 },
 "nbformat": 4,
 "nbformat_minor": 5
}
