{
 "cells": [
  {
   "cell_type": "code",
   "execution_count": 1,
   "id": "e13b4f2a",
   "metadata": {},
   "outputs": [],
   "source": [
    "import torch \n",
    "from torch.utils.data import DataLoader\n",
    "from torchvision import datasets, transforms\n",
    "import matplotlib.pyplot as plt\n",
    "import os"
   ]
  },
  {
   "cell_type": "code",
   "execution_count": 14,
   "id": "14914494",
   "metadata": {},
   "outputs": [],
   "source": [
    "base_dir = os.getcwd()\n",
    "data_dir = os.path.join(base_dir, 'split_dataset')\n",
    "\n",
    "train_dir = os.path.join(data_dir, 'train')\n",
    "\n",
    "#test_realworld_dir  = os.path.join(data_dir, 'test_realworld')\n",
    "#test_studio_dir  = os.path.join(data_dir, 'test_studio')"
   ]
  },
  {
   "cell_type": "code",
   "execution_count": 15,
   "id": "3e2a424d",
   "metadata": {},
   "outputs": [],
   "source": [
    "# image preprocessing: resize and convert to tensor \n",
    "transform = transforms.Compose([\n",
    "    transforms.Resize((128,128)),\n",
    "    transforms.ToTensor()\n",
    "])"
   ]
  },
  {
   "cell_type": "code",
   "execution_count": 16,
   "id": "f12061bc",
   "metadata": {},
   "outputs": [],
   "source": [
    "train_dataset = datasets.ImageFolder(root=train_dir, transform=transform)"
   ]
  }
 ],
 "metadata": {
  "kernelspec": {
   "display_name": "intelligent-systems",
   "language": "python",
   "name": "python3"
  },
  "language_info": {
   "codemirror_mode": {
    "name": "ipython",
    "version": 3
   },
   "file_extension": ".py",
   "mimetype": "text/x-python",
   "name": "python",
   "nbconvert_exporter": "python",
   "pygments_lexer": "ipython3",
   "version": "3.13.7"
  }
 },
 "nbformat": 4,
 "nbformat_minor": 5
}
